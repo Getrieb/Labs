{
 "cells": [
  {
   "cell_type": "code",
   "execution_count": 1,
   "outputs": [],
   "source": [
    "import pandas as pd\n",
    "import numpy as np\n",
    "import matplotlib.pyplot as plt\n",
    "import seaborn as sns\n",
    "import statsmodels.api as sm\n",
    "import plotly.express as px"
   ],
   "metadata": {
    "collapsed": false,
    "pycharm": {
     "name": "#%%\n"
    }
   }
  },
  {
   "cell_type": "markdown",
   "source": [
    "#### _Завантаження .CSV файлу з переліком 10979 квартир, доступних для оренди в м. Києві_"
   ],
   "metadata": {
    "collapsed": false,
    "pycharm": {
     "name": "#%% md\n"
    }
   }
  },
  {
   "cell_type": "code",
   "execution_count": 2,
   "outputs": [
    {
     "data": {
      "text/plain": "     Price  District  Residential_complex  Square  Level_of_housing  \\\n0   6999.0       8.0                    0    45.0                 1   \n1  21936.0       NaN                    1    90.0                 1   \n2  13000.0       1.0                    0    48.0                 1   \n3  73120.0       1.0                    1   121.0                 1   \n4  18000.0       8.0                    0    87.0                 1   \n\n   Distance_to_Metro  \n0                  3  \n1                  3  \n2                  1  \n3                  1  \n4                  2  ",
      "text/html": "<div>\n<style scoped>\n    .dataframe tbody tr th:only-of-type {\n        vertical-align: middle;\n    }\n\n    .dataframe tbody tr th {\n        vertical-align: top;\n    }\n\n    .dataframe thead th {\n        text-align: right;\n    }\n</style>\n<table border=\"1\" class=\"dataframe\">\n  <thead>\n    <tr style=\"text-align: right;\">\n      <th></th>\n      <th>Price</th>\n      <th>District</th>\n      <th>Residential_complex</th>\n      <th>Square</th>\n      <th>Level_of_housing</th>\n      <th>Distance_to_Metro</th>\n    </tr>\n  </thead>\n  <tbody>\n    <tr>\n      <th>0</th>\n      <td>6999.0</td>\n      <td>8.0</td>\n      <td>0</td>\n      <td>45.0</td>\n      <td>1</td>\n      <td>3</td>\n    </tr>\n    <tr>\n      <th>1</th>\n      <td>21936.0</td>\n      <td>NaN</td>\n      <td>1</td>\n      <td>90.0</td>\n      <td>1</td>\n      <td>3</td>\n    </tr>\n    <tr>\n      <th>2</th>\n      <td>13000.0</td>\n      <td>1.0</td>\n      <td>0</td>\n      <td>48.0</td>\n      <td>1</td>\n      <td>1</td>\n    </tr>\n    <tr>\n      <th>3</th>\n      <td>73120.0</td>\n      <td>1.0</td>\n      <td>1</td>\n      <td>121.0</td>\n      <td>1</td>\n      <td>1</td>\n    </tr>\n    <tr>\n      <th>4</th>\n      <td>18000.0</td>\n      <td>8.0</td>\n      <td>0</td>\n      <td>87.0</td>\n      <td>1</td>\n      <td>2</td>\n    </tr>\n  </tbody>\n</table>\n</div>"
     },
     "execution_count": 2,
     "metadata": {},
     "output_type": "execute_result"
    }
   ],
   "source": [
    "df = pd.read_csv('appartments_550_pages.csv')\n",
    "df.head()"
   ],
   "metadata": {
    "collapsed": false,
    "pycharm": {
     "name": "#%%\n"
    }
   }
  },
  {
   "cell_type": "markdown",
   "source": [
    "#### _Визначення типу даних в атрибутах_"
   ],
   "metadata": {
    "collapsed": false,
    "pycharm": {
     "name": "#%% md\n"
    }
   }
  },
  {
   "cell_type": "code",
   "execution_count": 3,
   "outputs": [
    {
     "data": {
      "text/plain": "Price                  float64\nDistrict               float64\nResidential_complex      int64\nSquare                 float64\nLevel_of_housing         int64\nDistance_to_Metro        int64\ndtype: object"
     },
     "execution_count": 3,
     "metadata": {},
     "output_type": "execute_result"
    }
   ],
   "source": [
    "df.dtypes"
   ],
   "metadata": {
    "collapsed": false,
    "pycharm": {
     "name": "#%%\n"
    }
   }
  },
  {
   "cell_type": "markdown",
   "source": [
    "#### _Підрахунок кількості значень NaN у вибірці з 10979 квартир_"
   ],
   "metadata": {
    "collapsed": false,
    "pycharm": {
     "name": "#%% md\n"
    }
   }
  },
  {
   "cell_type": "code",
   "execution_count": 4,
   "outputs": [
    {
     "data": {
      "text/plain": "Price                    0\nDistrict               357\nResidential_complex      0\nSquare                   0\nLevel_of_housing         0\nDistance_to_Metro        0\ndtype: int64"
     },
     "execution_count": 4,
     "metadata": {},
     "output_type": "execute_result"
    }
   ],
   "source": [
    "df.isna().sum()"
   ],
   "metadata": {
    "collapsed": false,
    "pycharm": {
     "name": "#%%\n"
    }
   }
  },
  {
   "cell_type": "markdown",
   "source": [
    "\n",
    "#### _Усунення відповідних рядків із   NaN у вибірці з 10979 квартир_"
   ],
   "metadata": {
    "collapsed": false,
    "pycharm": {
     "name": "#%% md\n"
    }
   }
  },
  {
   "cell_type": "code",
   "execution_count": 5,
   "outputs": [
    {
     "data": {
      "text/plain": "Price                  0\nDistrict               0\nResidential_complex    0\nSquare                 0\nLevel_of_housing       0\nDistance_to_Metro      0\ndtype: int64"
     },
     "execution_count": 5,
     "metadata": {},
     "output_type": "execute_result"
    }
   ],
   "source": [
    "df = df.dropna()\n",
    "df.isna().sum()"
   ],
   "metadata": {
    "collapsed": false,
    "pycharm": {
     "name": "#%%\n"
    }
   }
  },
  {
   "cell_type": "markdown",
   "source": [
    "#### _Візуалізація залежности 'Price' від 'District' у вибірці з 10622 квартир_"
   ],
   "metadata": {
    "collapsed": false,
    "pycharm": {
     "name": "#%% md\n"
    }
   }
  },
  {
   "cell_type": "code",
   "execution_count": 6,
   "outputs": [
    {
     "data": {
      "text/plain": "<Figure size 432x288 with 1 Axes>",
      "image/png": "[encoded data removed]"
     },
     "metadata": {},
     "output_type": "display_data"
    }
   ],
   "source": [
    "plt.scatter(df.District, df.Price)\n",
    "plt.xlabel('District')\n",
    "plt.ylabel('Price')\n",
    "plt.show()"
   ],
   "metadata": {
    "collapsed": false,
    "pycharm": {
     "name": "#%%\n"
    }
   }
  },
  {
   "cell_type": "markdown",
   "source": [
    "#### _Візуалізація залежности 'Price' від 'Residential complex' у вибірці з 10622 квартир_"
   ],
   "metadata": {
    "collapsed": false,
    "pycharm": {
     "name": "#%% md\n"
    }
   }
  },
  {
   "cell_type": "code",
   "execution_count": 7,
   "outputs": [
    {
     "data": {
      "text/plain": "<Figure size 432x288 with 1 Axes>",
      "image/png": "[encoded data removed]"
     },
     "metadata": {},
     "output_type": "display_data"
    }
   ],
   "source": [
    "plt.scatter(df.Residential_complex, df.Price)\n",
    "plt.xlabel('Residential_complex')\n",
    "plt.ylabel('Price')\n",
    "plt.show()"
   ],
   "metadata": {
    "collapsed": false,
    "pycharm": {
     "name": "#%%\n"
    }
   }
  },
  {
   "cell_type": "markdown",
   "source": [
    "#### _Візуалізація залежности 'Price' від 'Level_of_housing' у вибірці з 10622 квартир_"
   ],
   "metadata": {
    "collapsed": false,
    "pycharm": {
     "name": "#%% md\n"
    }
   }
  },
  {
   "cell_type": "code",
   "execution_count": 8,
   "outputs": [
    {
     "data": {
      "text/plain": "<Figure size 432x288 with 1 Axes>",
      "image/png": "[encoded data removed]"
     },
     "metadata": {},
     "output_type": "display_data"
    }
   ],
   "source": [
    "plt.scatter(df.Level_of_housing, df.Price)\n",
    "plt.xlabel('Level_of_housing')\n",
    "plt.ylabel('Price')\n",
    "plt.show()"
   ],
   "metadata": {
    "collapsed": false,
    "pycharm": {
     "name": "#%%\n"
    }
   }
  },
  {
   "cell_type": "markdown",
   "source": [
    "#### _Візуалізація залежности 'Price' від 'Distance_to_Metro' у вибірці з 10622 квартир_"
   ],
   "metadata": {
    "collapsed": false,
    "pycharm": {
     "name": "#%% md\n"
    }
   }
  },
  {
   "cell_type": "code",
   "execution_count": 9,
   "outputs": [
    {
     "data": {
      "text/plain": "<Figure size 432x288 with 1 Axes>",
      "image/png": "[encoded data removed]"
     },
     "metadata": {},
     "output_type": "display_data"
    }
   ],
   "source": [
    "plt.scatter(df.Distance_to_Metro, df.Price)\n",
    "plt.xlabel('Distance_to_Metro')\n",
    "plt.ylabel('Price')\n",
    "plt.show()"
   ],
   "metadata": {
    "collapsed": false,
    "pycharm": {
     "name": "#%%\n"
    }
   }
  },
  {
   "cell_type": "markdown",
   "source": [
    "#### _Візуалізація залежности 'Price' від 'Square' у вибірці з 10622 квартир_"
   ],
   "metadata": {
    "collapsed": false,
    "pycharm": {
     "name": "#%% md\n"
    }
   }
  },
  {
   "cell_type": "code",
   "execution_count": 10,
   "outputs": [
    {
     "data": {
      "text/plain": "<Figure size 432x288 with 1 Axes>",
      "image/png": "[encoded data removed]"
     },
     "metadata": {},
     "output_type": "display_data"
    }
   ],
   "source": [
    "plt.scatter(df.Square, df.Price)\n",
    "plt.xlabel('Square')\n",
    "plt.ylabel('Price')\n",
    "plt.show()"
   ],
   "metadata": {
    "collapsed": false,
    "pycharm": {
     "name": "#%%\n"
    }
   }
  },
  {
   "cell_type": "markdown",
   "source": [
    "#### _Створення окремих data frames для залежної змінної і однієї пояснювальної змінної, яка найбільше пасує наближенню лінійною регресією з відповідним навчанням згаданої моделі_"
   ],
   "metadata": {
    "collapsed": false,
    "pycharm": {
     "name": "#%% md\n"
    }
   }
  },
  {
   "cell_type": "code",
   "execution_count": 11,
   "outputs": [
    {
     "name": "stderr",
     "output_type": "stream",
     "text": [
      "/Users/serhiimykhalkiv/opt/anaconda3/lib/python3.9/site-packages/statsmodels/tsa/tsatools.py:142: FutureWarning: In a future version of pandas all arguments of concat except for the argument 'objs' will be keyword-only\n",
      "  x = pd.concat(x[::order], 1)\n"
     ]
    },
    {
     "data": {
      "text/plain": "<class 'statsmodels.iolib.summary.Summary'>\n\"\"\"\n                            OLS Regression Results                            \n==============================================================================\nDep. Variable:                  Price   R-squared:                       0.015\nModel:                            OLS   Adj. R-squared:                  0.015\nMethod:                 Least Squares   F-statistic:                     164.8\nDate:                Wed, 03 Aug 2022   Prob (F-statistic):           1.96e-37\nTime:                        15:02:50   Log-Likelihood:            -1.4109e+05\nNo. Observations:               10617   AIC:                         2.822e+05\nDf Residuals:                   10615   BIC:                         2.822e+05\nDf Model:                           1                                         \nCovariance Type:            nonrobust                                         \n==============================================================================\n                 coef    std err          t      P>|t|      [0.025      0.975]\n------------------------------------------------------------------------------\nconst      -4900.6961   2550.762     -1.921      0.055   -9900.668      99.275\nSquare       420.6527     32.772     12.836      0.000     356.414     484.892\n==============================================================================\nOmnibus:                    39377.752   Durbin-Watson:                   1.987\nProb(Omnibus):                  0.000   Jarque-Bera (JB):      22982557212.681\nSkew:                          80.461   Prob(JB):                         0.00\nKurtosis:                    7209.023   Cond. No.                         143.\n==============================================================================\n\nNotes:\n[1] Standard Errors assume that the covariance matrix of the errors is correctly specified.\n\"\"\"",
      "text/html": "<table class=\"simpletable\">\n<caption>OLS Regression Results</caption>\n<tr>\n  <th>Dep. Variable:</th>          <td>Price</td>      <th>  R-squared:         </th>  <td>   0.015</td>  \n</tr>\n<tr>\n  <th>Model:</th>                   <td>OLS</td>       <th>  Adj. R-squared:    </th>  <td>   0.015</td>  \n</tr>\n<tr>\n  <th>Method:</th>             <td>Least Squares</td>  <th>  F-statistic:       </th>  <td>   164.8</td>  \n</tr>\n<tr>\n  <th>Date:</th>             <td>Wed, 03 Aug 2022</td> <th>  Prob (F-statistic):</th>  <td>1.96e-37</td>  \n</tr>\n<tr>\n  <th>Time:</th>                 <td>15:02:50</td>     <th>  Log-Likelihood:    </th> <td>-1.4109e+05</td>\n</tr>\n<tr>\n  <th>No. Observations:</th>      <td> 10617</td>      <th>  AIC:               </th>  <td>2.822e+05</td> \n</tr>\n<tr>\n  <th>Df Residuals:</th>          <td> 10615</td>      <th>  BIC:               </th>  <td>2.822e+05</td> \n</tr>\n<tr>\n  <th>Df Model:</th>              <td>     1</td>      <th>                     </th>      <td> </td>     \n</tr>\n<tr>\n  <th>Covariance Type:</th>      <td>nonrobust</td>    <th>                     </th>      <td> </td>     \n</tr>\n</table>\n<table class=\"simpletable\">\n<tr>\n     <td></td>       <th>coef</th>     <th>std err</th>      <th>t</th>      <th>P>|t|</th>  <th>[0.025</th>    <th>0.975]</th>  \n</tr>\n<tr>\n  <th>const</th>  <td>-4900.6961</td> <td> 2550.762</td> <td>   -1.921</td> <td> 0.055</td> <td>-9900.668</td> <td>   99.275</td>\n</tr>\n<tr>\n  <th>Square</th> <td>  420.6527</td> <td>   32.772</td> <td>   12.836</td> <td> 0.000</td> <td>  356.414</td> <td>  484.892</td>\n</tr>\n</table>\n<table class=\"simpletable\">\n<tr>\n  <th>Omnibus:</th>       <td>39377.752</td> <th>  Durbin-Watson:     </th>    <td>   1.987</td>    \n</tr>\n<tr>\n  <th>Prob(Omnibus):</th>  <td> 0.000</td>   <th>  Jarque-Bera (JB):  </th> <td>22982557212.681</td>\n</tr>\n<tr>\n  <th>Skew:</th>           <td>80.461</td>   <th>  Prob(JB):          </th>    <td>    0.00</td>    \n</tr>\n<tr>\n  <th>Kurtosis:</th>      <td>7209.023</td>  <th>  Cond. No.          </th>    <td>    143.</td>    \n</tr>\n</table><br/><br/>Notes:<br/>[1] Standard Errors assume that the covariance matrix of the errors is correctly specified."
     },
     "execution_count": 11,
     "metadata": {},
     "output_type": "execute_result"
    }
   ],
   "source": [
    "Y = df['Price']\n",
    "X = df[['Square']]\n",
    "X = sm.add_constant(X)\n",
    "ks = sm.OLS(Y, X)\n",
    "ks_res =ks.fit()\n",
    "ks_res.summary()"
   ],
   "metadata": {
    "collapsed": false,
    "pycharm": {
     "name": "#%%\n"
    }
   }
  },
  {
   "cell_type": "markdown",
   "source": [
    "#### _Створення окремих data frames для залежної змінної та всіх пояснювальних змінних із наступним навчанням моделі множинної регресії_"
   ],
   "metadata": {
    "collapsed": false,
    "pycharm": {
     "name": "#%% md\n"
    }
   }
  },
  {
   "cell_type": "code",
   "execution_count": 12,
   "outputs": [
    {
     "name": "stderr",
     "output_type": "stream",
     "text": [
      "/Users/serhiimykhalkiv/opt/anaconda3/lib/python3.9/site-packages/statsmodels/tsa/tsatools.py:142: FutureWarning: In a future version of pandas all arguments of concat except for the argument 'objs' will be keyword-only\n",
      "  x = pd.concat(x[::order], 1)\n"
     ]
    },
    {
     "data": {
      "text/plain": "<class 'statsmodels.iolib.summary.Summary'>\n\"\"\"\n                            OLS Regression Results                            \n==============================================================================\nDep. Variable:                  Price   R-squared:                       0.020\nModel:                            OLS   Adj. R-squared:                  0.019\nMethod:                 Least Squares   F-statistic:                     42.34\nDate:                Wed, 03 Aug 2022   Prob (F-statistic):           2.45e-43\nTime:                        15:02:52   Log-Likelihood:            -1.4107e+05\nNo. Observations:               10617   AIC:                         2.822e+05\nDf Residuals:                   10611   BIC:                         2.822e+05\nDf Model:                           5                                         \nCovariance Type:            nonrobust                                         \n=======================================================================================\n                          coef    std err          t      P>|t|      [0.025      0.975]\n---------------------------------------------------------------------------------------\nconst                4868.0780   8308.441      0.586      0.558   -1.14e+04    2.12e+04\nSquare                386.9486     33.551     11.533      0.000     321.182     452.715\nDistrict             -996.7191    513.830     -1.940      0.052   -2003.922      10.484\nResidential_complex  1.784e+04   3414.515      5.226      0.000    1.12e+04    2.45e+04\nLevel_of_housing     -389.1360   6739.074     -0.058      0.954   -1.36e+04    1.28e+04\nDistance_to_Metro   -3792.3177   1816.050     -2.088      0.037   -7352.116    -232.519\n==============================================================================\nOmnibus:                    39413.278   Durbin-Watson:                   1.990\nProb(Omnibus):                  0.000   Jarque-Bera (JB):      23165571015.430\nSkew:                          80.683   Prob(JB):                         0.00\nKurtosis:                    7237.661   Cond. No.                         579.\n==============================================================================\n\nNotes:\n[1] Standard Errors assume that the covariance matrix of the errors is correctly specified.\n\"\"\"",
      "text/html": "<table class=\"simpletable\">\n<caption>OLS Regression Results</caption>\n<tr>\n  <th>Dep. Variable:</th>          <td>Price</td>      <th>  R-squared:         </th>  <td>   0.020</td>  \n</tr>\n<tr>\n  <th>Model:</th>                   <td>OLS</td>       <th>  Adj. R-squared:    </th>  <td>   0.019</td>  \n</tr>\n<tr>\n  <th>Method:</th>             <td>Least Squares</td>  <th>  F-statistic:       </th>  <td>   42.34</td>  \n</tr>\n<tr>\n  <th>Date:</th>             <td>Wed, 03 Aug 2022</td> <th>  Prob (F-statistic):</th>  <td>2.45e-43</td>  \n</tr>\n<tr>\n  <th>Time:</th>                 <td>15:02:52</td>     <th>  Log-Likelihood:    </th> <td>-1.4107e+05</td>\n</tr>\n<tr>\n  <th>No. Observations:</th>      <td> 10617</td>      <th>  AIC:               </th>  <td>2.822e+05</td> \n</tr>\n<tr>\n  <th>Df Residuals:</th>          <td> 10611</td>      <th>  BIC:               </th>  <td>2.822e+05</td> \n</tr>\n<tr>\n  <th>Df Model:</th>              <td>     5</td>      <th>                     </th>      <td> </td>     \n</tr>\n<tr>\n  <th>Covariance Type:</th>      <td>nonrobust</td>    <th>                     </th>      <td> </td>     \n</tr>\n</table>\n<table class=\"simpletable\">\n<tr>\n           <td></td>              <th>coef</th>     <th>std err</th>      <th>t</th>      <th>P>|t|</th>  <th>[0.025</th>    <th>0.975]</th>  \n</tr>\n<tr>\n  <th>const</th>               <td> 4868.0780</td> <td> 8308.441</td> <td>    0.586</td> <td> 0.558</td> <td>-1.14e+04</td> <td> 2.12e+04</td>\n</tr>\n<tr>\n  <th>Square</th>              <td>  386.9486</td> <td>   33.551</td> <td>   11.533</td> <td> 0.000</td> <td>  321.182</td> <td>  452.715</td>\n</tr>\n<tr>\n  <th>District</th>            <td> -996.7191</td> <td>  513.830</td> <td>   -1.940</td> <td> 0.052</td> <td>-2003.922</td> <td>   10.484</td>\n</tr>\n<tr>\n  <th>Residential_complex</th> <td> 1.784e+04</td> <td> 3414.515</td> <td>    5.226</td> <td> 0.000</td> <td> 1.12e+04</td> <td> 2.45e+04</td>\n</tr>\n<tr>\n  <th>Level_of_housing</th>    <td> -389.1360</td> <td> 6739.074</td> <td>   -0.058</td> <td> 0.954</td> <td>-1.36e+04</td> <td> 1.28e+04</td>\n</tr>\n<tr>\n  <th>Distance_to_Metro</th>   <td>-3792.3177</td> <td> 1816.050</td> <td>   -2.088</td> <td> 0.037</td> <td>-7352.116</td> <td> -232.519</td>\n</tr>\n</table>\n<table class=\"simpletable\">\n<tr>\n  <th>Omnibus:</th>       <td>39413.278</td> <th>  Durbin-Watson:     </th>    <td>   1.990</td>    \n</tr>\n<tr>\n  <th>Prob(Omnibus):</th>  <td> 0.000</td>   <th>  Jarque-Bera (JB):  </th> <td>23165571015.430</td>\n</tr>\n<tr>\n  <th>Skew:</th>           <td>80.683</td>   <th>  Prob(JB):          </th>    <td>    0.00</td>    \n</tr>\n<tr>\n  <th>Kurtosis:</th>      <td>7237.661</td>  <th>  Cond. No.          </th>    <td>    579.</td>    \n</tr>\n</table><br/><br/>Notes:<br/>[1] Standard Errors assume that the covariance matrix of the errors is correctly specified."
     },
     "execution_count": 12,
     "metadata": {},
     "output_type": "execute_result"
    }
   ],
   "source": [
    "Y = df['Price']\n",
    "X = df[['Square', 'District', 'Residential_complex', 'Level_of_housing', 'Distance_to_Metro']]\n",
    "X = sm.add_constant(X)\n",
    "ks = sm.OLS(Y, X)\n",
    "ks_res =ks.fit()\n",
    "ks_res.summary()"
   ],
   "metadata": {
    "collapsed": false,
    "pycharm": {
     "name": "#%%\n"
    }
   }
  },
  {
   "cell_type": "markdown",
   "source": [
    "#### _Завантаження .CSV файлу з переліком 340 квартир, доступних для оренди в м. Києві_"
   ],
   "metadata": {
    "collapsed": false,
    "pycharm": {
     "name": "#%% md\n"
    }
   }
  },
  {
   "cell_type": "code",
   "execution_count": 13,
   "outputs": [
    {
     "data": {
      "text/plain": "     Price  District  Residential_complex  Square  Level_of_housing  \\\n0   6999.0       8.0                    0    45.0                 1   \n1  21936.0       NaN                    1    90.0                 1   \n2  13000.0       1.0                    0    48.0                 1   \n3  73120.0       1.0                    1   121.0                 1   \n4  18000.0       8.0                    0    87.0                 1   \n\n   Distance_to_Metro  \n0                  3  \n1                  3  \n2                  1  \n3                  1  \n4                  2  ",
      "text/html": "<div>\n<style scoped>\n    .dataframe tbody tr th:only-of-type {\n        vertical-align: middle;\n    }\n\n    .dataframe tbody tr th {\n        vertical-align: top;\n    }\n\n    .dataframe thead th {\n        text-align: right;\n    }\n</style>\n<table border=\"1\" class=\"dataframe\">\n  <thead>\n    <tr style=\"text-align: right;\">\n      <th></th>\n      <th>Price</th>\n      <th>District</th>\n      <th>Residential_complex</th>\n      <th>Square</th>\n      <th>Level_of_housing</th>\n      <th>Distance_to_Metro</th>\n    </tr>\n  </thead>\n  <tbody>\n    <tr>\n      <th>0</th>\n      <td>6999.0</td>\n      <td>8.0</td>\n      <td>0</td>\n      <td>45.0</td>\n      <td>1</td>\n      <td>3</td>\n    </tr>\n    <tr>\n      <th>1</th>\n      <td>21936.0</td>\n      <td>NaN</td>\n      <td>1</td>\n      <td>90.0</td>\n      <td>1</td>\n      <td>3</td>\n    </tr>\n    <tr>\n      <th>2</th>\n      <td>13000.0</td>\n      <td>1.0</td>\n      <td>0</td>\n      <td>48.0</td>\n      <td>1</td>\n      <td>1</td>\n    </tr>\n    <tr>\n      <th>3</th>\n      <td>73120.0</td>\n      <td>1.0</td>\n      <td>1</td>\n      <td>121.0</td>\n      <td>1</td>\n      <td>1</td>\n    </tr>\n    <tr>\n      <th>4</th>\n      <td>18000.0</td>\n      <td>8.0</td>\n      <td>0</td>\n      <td>87.0</td>\n      <td>1</td>\n      <td>2</td>\n    </tr>\n  </tbody>\n</table>\n</div>"
     },
     "execution_count": 13,
     "metadata": {},
     "output_type": "execute_result"
    }
   ],
   "source": [
    "df = pd.read_csv('appartments_1_18_pages.csv')\n",
    "df.head()"
   ],
   "metadata": {
    "collapsed": false,
    "pycharm": {
     "name": "#%%\n"
    }
   }
  },
  {
   "cell_type": "markdown",
   "source": [
    "#### _Підрахунок кількості значень NaN у вибірці з 340 квартир_"
   ],
   "metadata": {
    "collapsed": false,
    "pycharm": {
     "name": "#%% md\n"
    }
   }
  },
  {
   "cell_type": "code",
   "execution_count": 14,
   "outputs": [
    {
     "data": {
      "text/plain": "Price                  0\nDistrict               5\nResidential_complex    0\nSquare                 0\nLevel_of_housing       0\nDistance_to_Metro      0\ndtype: int64"
     },
     "execution_count": 14,
     "metadata": {},
     "output_type": "execute_result"
    }
   ],
   "source": [
    "df.isna().sum()"
   ],
   "metadata": {
    "collapsed": false,
    "pycharm": {
     "name": "#%%\n"
    }
   }
  },
  {
   "cell_type": "markdown",
   "source": [
    "#### _Усунення відповідних рядків із   NaN у вибірці з 340 квартир_"
   ],
   "metadata": {
    "collapsed": false,
    "pycharm": {
     "name": "#%% md\n"
    }
   }
  },
  {
   "cell_type": "code",
   "execution_count": 15,
   "outputs": [
    {
     "data": {
      "text/plain": "Price                  0\nDistrict               0\nResidential_complex    0\nSquare                 0\nLevel_of_housing       0\nDistance_to_Metro      0\ndtype: int64"
     },
     "execution_count": 15,
     "metadata": {},
     "output_type": "execute_result"
    }
   ],
   "source": [
    "df = df.dropna()\n",
    "df.isna().sum()"
   ],
   "metadata": {
    "collapsed": false,
    "pycharm": {
     "name": "#%%\n"
    }
   }
  },
  {
   "cell_type": "markdown",
   "source": [
    "#### _Візуалізація залежности 'Price' від 'District' у вибірці з 335 квартир_"
   ],
   "metadata": {
    "collapsed": false,
    "pycharm": {
     "name": "#%% md\n"
    }
   }
  },
  {
   "cell_type": "code",
   "execution_count": 16,
   "outputs": [
    {
     "data": {
      "text/plain": "<Figure size 432x288 with 1 Axes>",
      "image/png": "[encoded data removed]"
     },
     "metadata": {},
     "output_type": "display_data"
    }
   ],
   "source": [
    "plt.scatter(df.District, df.Price)\n",
    "plt.xlabel('District')\n",
    "plt.ylabel('Price')\n",
    "plt.show()"
   ],
   "metadata": {
    "collapsed": false,
    "pycharm": {
     "name": "#%%\n"
    }
   }
  },
  {
   "cell_type": "markdown",
   "source": [
    "#### _Візуалізація залежности 'Price' від 'Residential complex' у вибірці з 335 квартир_"
   ],
   "metadata": {
    "collapsed": false,
    "pycharm": {
     "name": "#%% md\n"
    }
   }
  },
  {
   "cell_type": "code",
   "execution_count": 17,
   "outputs": [
    {
     "data": {
      "text/plain": "<Figure size 432x288 with 1 Axes>",
      "image/png": "[encoded data removed]"
     },
     "metadata": {},
     "output_type": "display_data"
    }
   ],
   "source": [
    "plt.scatter(df.Residential_complex, df.Price)\n",
    "plt.xlabel('Residential_complex')\n",
    "plt.ylabel('Price')\n",
    "plt.show()"
   ],
   "metadata": {
    "collapsed": false,
    "pycharm": {
     "name": "#%%\n"
    }
   }
  },
  {
   "cell_type": "markdown",
   "source": [
    "#### _Візуалізація залежности 'Price' від 'Level_of_housing' у вибірці з 335 квартир_"
   ],
   "metadata": {
    "collapsed": false,
    "pycharm": {
     "name": "#%% md\n"
    }
   }
  },
  {
   "cell_type": "code",
   "execution_count": 18,
   "outputs": [
    {
     "data": {
      "text/plain": "<Figure size 432x288 with 1 Axes>",
      "image/png": "[encoded data removed]"
     },
     "metadata": {},
     "output_type": "display_data"
    }
   ],
   "source": [
    "plt.scatter(df.Level_of_housing, df.Price)\n",
    "plt.xlabel('Level_of_housing')\n",
    "plt.ylabel('Price')\n",
    "plt.show()"
   ],
   "metadata": {
    "collapsed": false,
    "pycharm": {
     "name": "#%%\n"
    }
   }
  },
  {
   "cell_type": "markdown",
   "source": [
    "#### _Візуалізація залежности 'Price' від 'Distance_to_Metro' у вибірці з 335 квартир_"
   ],
   "metadata": {
    "collapsed": false,
    "pycharm": {
     "name": "#%% md\n"
    }
   }
  },
  {
   "cell_type": "code",
   "execution_count": 19,
   "outputs": [
    {
     "data": {
      "text/plain": "<Figure size 432x288 with 1 Axes>",
      "image/png": "[encoded data removed]"
     },
     "metadata": {},
     "output_type": "display_data"
    }
   ],
   "source": [
    "plt.scatter(df.Distance_to_Metro, df.Price)\n",
    "plt.xlabel('Distance_to_Metro')\n",
    "plt.ylabel('Price')\n",
    "plt.show()"
   ],
   "metadata": {
    "collapsed": false,
    "pycharm": {
     "name": "#%%\n"
    }
   }
  },
  {
   "cell_type": "markdown",
   "source": [
    "#### _Візуалізація залежности 'Price' від 'Square' у вибірці з 335 квартир_"
   ],
   "metadata": {
    "collapsed": false,
    "pycharm": {
     "name": "#%% md\n"
    }
   }
  },
  {
   "cell_type": "code",
   "execution_count": 20,
   "outputs": [
    {
     "data": {
      "text/plain": "<Figure size 432x288 with 1 Axes>",
      "image/png": "[encoded data removed]"
     },
     "metadata": {},
     "output_type": "display_data"
    }
   ],
   "source": [
    "plt.scatter(df.Square, df.Price)\n",
    "plt.xlabel('Square')\n",
    "plt.ylabel('Price')\n",
    "plt.show()"
   ],
   "metadata": {
    "collapsed": false,
    "pycharm": {
     "name": "#%%\n"
    }
   }
  },
  {
   "cell_type": "markdown",
   "source": [
    "#### _Створення окремих data frames для залежної змінної і однієї пояснювальної змінної, яка найбільше пасує наближенню лінійною регресією з відповідним навчанням згаданої моделі_"
   ],
   "metadata": {
    "collapsed": false,
    "pycharm": {
     "name": "#%% md\n"
    }
   }
  },
  {
   "cell_type": "code",
   "execution_count": 21,
   "outputs": [
    {
     "name": "stderr",
     "output_type": "stream",
     "text": [
      "/Users/serhiimykhalkiv/opt/anaconda3/lib/python3.9/site-packages/statsmodels/tsa/tsatools.py:142: FutureWarning: In a future version of pandas all arguments of concat except for the argument 'objs' will be keyword-only\n",
      "  x = pd.concat(x[::order], 1)\n"
     ]
    },
    {
     "data": {
      "text/plain": "<class 'statsmodels.iolib.summary.Summary'>\n\"\"\"\n                            OLS Regression Results                            \n==============================================================================\nDep. Variable:                  Price   R-squared:                       0.336\nModel:                            OLS   Adj. R-squared:                  0.334\nMethod:                 Least Squares   F-statistic:                     168.7\nDate:                Wed, 03 Aug 2022   Prob (F-statistic):           1.75e-31\nTime:                        15:03:11   Log-Likelihood:                -3999.6\nNo. Observations:                 335   AIC:                             8003.\nDf Residuals:                     333   BIC:                             8011.\nDf Model:                           1                                         \nCovariance Type:            nonrobust                                         \n==============================================================================\n                 coef    std err          t      P>|t|      [0.025      0.975]\n------------------------------------------------------------------------------\nconst       -1.45e+04   3658.968     -3.962      0.000   -2.17e+04   -7298.068\nSquare       562.1053     43.282     12.987      0.000     476.965     647.245\n==============================================================================\nOmnibus:                      576.898   Durbin-Watson:                   1.959\nProb(Omnibus):                  0.000   Jarque-Bera (JB):           196916.134\nSkew:                           9.821   Prob(JB):                         0.00\nKurtosis:                     120.139   Cond. No.                         152.\n==============================================================================\n\nNotes:\n[1] Standard Errors assume that the covariance matrix of the errors is correctly specified.\n\"\"\"",
      "text/html": "<table class=\"simpletable\">\n<caption>OLS Regression Results</caption>\n<tr>\n  <th>Dep. Variable:</th>          <td>Price</td>      <th>  R-squared:         </th> <td>   0.336</td>\n</tr>\n<tr>\n  <th>Model:</th>                   <td>OLS</td>       <th>  Adj. R-squared:    </th> <td>   0.334</td>\n</tr>\n<tr>\n  <th>Method:</th>             <td>Least Squares</td>  <th>  F-statistic:       </th> <td>   168.7</td>\n</tr>\n<tr>\n  <th>Date:</th>             <td>Wed, 03 Aug 2022</td> <th>  Prob (F-statistic):</th> <td>1.75e-31</td>\n</tr>\n<tr>\n  <th>Time:</th>                 <td>15:03:11</td>     <th>  Log-Likelihood:    </th> <td> -3999.6</td>\n</tr>\n<tr>\n  <th>No. Observations:</th>      <td>   335</td>      <th>  AIC:               </th> <td>   8003.</td>\n</tr>\n<tr>\n  <th>Df Residuals:</th>          <td>   333</td>      <th>  BIC:               </th> <td>   8011.</td>\n</tr>\n<tr>\n  <th>Df Model:</th>              <td>     1</td>      <th>                     </th>     <td> </td>   \n</tr>\n<tr>\n  <th>Covariance Type:</th>      <td>nonrobust</td>    <th>                     </th>     <td> </td>   \n</tr>\n</table>\n<table class=\"simpletable\">\n<tr>\n     <td></td>       <th>coef</th>     <th>std err</th>      <th>t</th>      <th>P>|t|</th>  <th>[0.025</th>    <th>0.975]</th>  \n</tr>\n<tr>\n  <th>const</th>  <td> -1.45e+04</td> <td> 3658.968</td> <td>   -3.962</td> <td> 0.000</td> <td>-2.17e+04</td> <td>-7298.068</td>\n</tr>\n<tr>\n  <th>Square</th> <td>  562.1053</td> <td>   43.282</td> <td>   12.987</td> <td> 0.000</td> <td>  476.965</td> <td>  647.245</td>\n</tr>\n</table>\n<table class=\"simpletable\">\n<tr>\n  <th>Omnibus:</th>       <td>576.898</td> <th>  Durbin-Watson:     </th>  <td>   1.959</td> \n</tr>\n<tr>\n  <th>Prob(Omnibus):</th> <td> 0.000</td>  <th>  Jarque-Bera (JB):  </th> <td>196916.134</td>\n</tr>\n<tr>\n  <th>Skew:</th>          <td> 9.821</td>  <th>  Prob(JB):          </th>  <td>    0.00</td> \n</tr>\n<tr>\n  <th>Kurtosis:</th>      <td>120.139</td> <th>  Cond. No.          </th>  <td>    152.</td> \n</tr>\n</table><br/><br/>Notes:<br/>[1] Standard Errors assume that the covariance matrix of the errors is correctly specified."
     },
     "execution_count": 21,
     "metadata": {},
     "output_type": "execute_result"
    }
   ],
   "source": [
    "Y = df['Price']\n",
    "X = df[['Square']]\n",
    "X = sm.add_constant(X)\n",
    "ks = sm.OLS(Y, X)\n",
    "ks_res = ks.fit()\n",
    "ks_res.summary()"
   ],
   "metadata": {
    "collapsed": false,
    "pycharm": {
     "name": "#%%\n"
    }
   }
  },
  {
   "cell_type": "markdown",
   "source": [
    "#### _Створення окремих data frames для залежної змінної та всіх пояснювальних змінних із наступним навчанням моделі множинної регресії_"
   ],
   "metadata": {
    "collapsed": false,
    "pycharm": {
     "name": "#%% md\n"
    }
   }
  },
  {
   "cell_type": "code",
   "execution_count": 22,
   "outputs": [
    {
     "name": "stderr",
     "output_type": "stream",
     "text": [
      "/Users/serhiimykhalkiv/opt/anaconda3/lib/python3.9/site-packages/statsmodels/tsa/tsatools.py:142: FutureWarning: In a future version of pandas all arguments of concat except for the argument 'objs' will be keyword-only\n",
      "  x = pd.concat(x[::order], 1)\n"
     ]
    },
    {
     "data": {
      "text/plain": "<class 'statsmodels.iolib.summary.Summary'>\n\"\"\"\n                            OLS Regression Results                            \n==============================================================================\nDep. Variable:                  Price   R-squared:                       0.351\nModel:                            OLS   Adj. R-squared:                  0.341\nMethod:                 Least Squares   F-statistic:                     35.52\nDate:                Wed, 03 Aug 2022   Prob (F-statistic):           4.91e-29\nTime:                        15:03:14   Log-Likelihood:                -3995.9\nNo. Observations:                 335   AIC:                             8004.\nDf Residuals:                     329   BIC:                             8027.\nDf Model:                           5                                         \nCovariance Type:            nonrobust                                         \n=======================================================================================\n                          coef    std err          t      P>|t|      [0.025      0.975]\n---------------------------------------------------------------------------------------\nconst               -1.741e+04   9040.304     -1.926      0.055   -3.52e+04     373.474\nSquare                545.2508     45.073     12.097      0.000     456.583     633.919\nDistrict             -829.2499    775.952     -1.069      0.286   -2355.703     697.204\nResidential_complex  4989.7987   4437.212      1.125      0.262   -3739.087    1.37e+04\nLevel_of_housing     6476.4670   4053.562      1.598      0.111   -1497.703    1.45e+04\nDistance_to_Metro   -2118.7553   2535.871     -0.836      0.404   -7107.323    2869.812\n==============================================================================\nOmnibus:                      583.509   Durbin-Watson:                   1.984\nProb(Omnibus):                  0.000   Jarque-Bera (JB):           208716.807\nSkew:                          10.036   Prob(JB):                         0.00\nKurtosis:                     123.623   Cond. No.                         401.\n==============================================================================\n\nNotes:\n[1] Standard Errors assume that the covariance matrix of the errors is correctly specified.\n\"\"\"",
      "text/html": "<table class=\"simpletable\">\n<caption>OLS Regression Results</caption>\n<tr>\n  <th>Dep. Variable:</th>          <td>Price</td>      <th>  R-squared:         </th> <td>   0.351</td>\n</tr>\n<tr>\n  <th>Model:</th>                   <td>OLS</td>       <th>  Adj. R-squared:    </th> <td>   0.341</td>\n</tr>\n<tr>\n  <th>Method:</th>             <td>Least Squares</td>  <th>  F-statistic:       </th> <td>   35.52</td>\n</tr>\n<tr>\n  <th>Date:</th>             <td>Wed, 03 Aug 2022</td> <th>  Prob (F-statistic):</th> <td>4.91e-29</td>\n</tr>\n<tr>\n  <th>Time:</th>                 <td>15:03:14</td>     <th>  Log-Likelihood:    </th> <td> -3995.9</td>\n</tr>\n<tr>\n  <th>No. Observations:</th>      <td>   335</td>      <th>  AIC:               </th> <td>   8004.</td>\n</tr>\n<tr>\n  <th>Df Residuals:</th>          <td>   329</td>      <th>  BIC:               </th> <td>   8027.</td>\n</tr>\n<tr>\n  <th>Df Model:</th>              <td>     5</td>      <th>                     </th>     <td> </td>   \n</tr>\n<tr>\n  <th>Covariance Type:</th>      <td>nonrobust</td>    <th>                     </th>     <td> </td>   \n</tr>\n</table>\n<table class=\"simpletable\">\n<tr>\n           <td></td>              <th>coef</th>     <th>std err</th>      <th>t</th>      <th>P>|t|</th>  <th>[0.025</th>    <th>0.975]</th>  \n</tr>\n<tr>\n  <th>const</th>               <td>-1.741e+04</td> <td> 9040.304</td> <td>   -1.926</td> <td> 0.055</td> <td>-3.52e+04</td> <td>  373.474</td>\n</tr>\n<tr>\n  <th>Square</th>              <td>  545.2508</td> <td>   45.073</td> <td>   12.097</td> <td> 0.000</td> <td>  456.583</td> <td>  633.919</td>\n</tr>\n<tr>\n  <th>District</th>            <td> -829.2499</td> <td>  775.952</td> <td>   -1.069</td> <td> 0.286</td> <td>-2355.703</td> <td>  697.204</td>\n</tr>\n<tr>\n  <th>Residential_complex</th> <td> 4989.7987</td> <td> 4437.212</td> <td>    1.125</td> <td> 0.262</td> <td>-3739.087</td> <td> 1.37e+04</td>\n</tr>\n<tr>\n  <th>Level_of_housing</th>    <td> 6476.4670</td> <td> 4053.562</td> <td>    1.598</td> <td> 0.111</td> <td>-1497.703</td> <td> 1.45e+04</td>\n</tr>\n<tr>\n  <th>Distance_to_Metro</th>   <td>-2118.7553</td> <td> 2535.871</td> <td>   -0.836</td> <td> 0.404</td> <td>-7107.323</td> <td> 2869.812</td>\n</tr>\n</table>\n<table class=\"simpletable\">\n<tr>\n  <th>Omnibus:</th>       <td>583.509</td> <th>  Durbin-Watson:     </th>  <td>   1.984</td> \n</tr>\n<tr>\n  <th>Prob(Omnibus):</th> <td> 0.000</td>  <th>  Jarque-Bera (JB):  </th> <td>208716.807</td>\n</tr>\n<tr>\n  <th>Skew:</th>          <td>10.036</td>  <th>  Prob(JB):          </th>  <td>    0.00</td> \n</tr>\n<tr>\n  <th>Kurtosis:</th>      <td>123.623</td> <th>  Cond. No.          </th>  <td>    401.</td> \n</tr>\n</table><br/><br/>Notes:<br/>[1] Standard Errors assume that the covariance matrix of the errors is correctly specified."
     },
     "execution_count": 22,
     "metadata": {},
     "output_type": "execute_result"
    }
   ],
   "source": [
    "Y = df['Price']\n",
    "X = df[['Square', 'District', 'Residential_complex', 'Level_of_housing', 'Distance_to_Metro']]\n",
    "X = sm.add_constant(X)\n",
    "ks = sm.OLS(Y, X)\n",
    "ks_res = ks.fit()\n",
    "ks_res.summary()"
   ],
   "metadata": {
    "collapsed": false,
    "pycharm": {
     "name": "#%%\n"
    }
   }
  },
  {
   "cell_type": "markdown",
   "source": [
    "#### _Розрахунок та візуалізація стандартизованих залишків моделі_"
   ],
   "metadata": {
    "collapsed": false,
    "pycharm": {
     "name": "#%% md\n"
    }
   }
  },
  {
   "cell_type": "code",
   "execution_count": 28,
   "outputs": [
    {
     "data": {
      "text/plain": "<Figure size 432x288 with 1 Axes>",
      "image/png": "[encoded data removed]"
     },
     "metadata": {},
     "output_type": "display_data"
    }
   ],
   "source": [
    "influence = ks_res.get_influence()\n",
    "standardized_residuals = influence.resid_studentized_internal\n",
    "plt.scatter(df.Square, standardized_residuals)\n",
    "plt.xlabel('Square')\n",
    "plt.ylabel('Standardized Residuals')\n",
    "plt.axhline(y=0, color='black', linestyle='--', linewidth=1)\n",
    "plt.show()"
   ],
   "metadata": {
    "collapsed": false,
    "pycharm": {
     "name": "#%%\n"
    }
   }
  },
  {
   "cell_type": "markdown",
   "source": [
    "#### _Визначення індексів рядків, стандартизований залишок яких більше 3_"
   ],
   "metadata": {
    "collapsed": false,
    "pycharm": {
     "name": "#%% md\n"
    }
   }
  },
  {
   "cell_type": "code",
   "execution_count": 30,
   "outputs": [
    {
     "name": "stdout",
     "output_type": "stream",
     "text": [
      "159\n",
      "256\n"
     ]
    }
   ],
   "source": [
    "for k in range(len(standardized_residuals)):\n",
    "    if standardized_residuals[k] > abs(3):\n",
    "        print(k)"
   ],
   "metadata": {
    "collapsed": false,
    "pycharm": {
     "name": "#%%\n"
    }
   }
  },
  {
   "cell_type": "markdown",
   "source": [
    "#### _Візуалізація залежности 'Price' від 'Square' у вибірці з 333 квартир після видалення двох рядків стандартизований залишок яких був поза нормою_"
   ],
   "metadata": {
    "collapsed": false,
    "pycharm": {
     "name": "#%% md\n"
    }
   }
  },
  {
   "cell_type": "code",
   "execution_count": 31,
   "outputs": [
    {
     "data": {
      "text/plain": "<Figure size 432x288 with 1 Axes>",
      "image/png": "[encoded data removed]"
     },
     "metadata": {},
     "output_type": "display_data"
    }
   ],
   "source": [
    "df = pd.read_csv('appartments_1_18_pages_no_NaN_no_3.csv')\n",
    "plt.scatter(df.Square, df.Price)\n",
    "plt.xlabel('Square')\n",
    "plt.ylabel('Price')\n",
    "plt.show()"
   ],
   "metadata": {
    "collapsed": false,
    "pycharm": {
     "name": "#%%\n"
    }
   }
  },
  {
   "cell_type": "markdown",
   "source": [
    "#### _Розрахунок точності отриманої лінійної моделі за однією уточнювальною змінною 'Square' після згаданих корегувань_"
   ],
   "metadata": {
    "collapsed": false,
    "pycharm": {
     "name": "#%% md\n"
    }
   }
  },
  {
   "cell_type": "code",
   "execution_count": 32,
   "outputs": [
    {
     "name": "stderr",
     "output_type": "stream",
     "text": [
      "/Users/serhiimykhalkiv/opt/anaconda3/lib/python3.9/site-packages/statsmodels/tsa/tsatools.py:142: FutureWarning: In a future version of pandas all arguments of concat except for the argument 'objs' will be keyword-only\n",
      "  x = pd.concat(x[::order], 1)\n"
     ]
    },
    {
     "data": {
      "text/plain": "<class 'statsmodels.iolib.summary.Summary'>\n\"\"\"\n                            OLS Regression Results                            \n==============================================================================\nDep. Variable:                  Price   R-squared:                       0.675\nModel:                            OLS   Adj. R-squared:                  0.674\nMethod:                 Least Squares   F-statistic:                     684.6\nDate:                Wed, 03 Aug 2022   Prob (F-statistic):           1.76e-82\nTime:                        15:37:30   Log-Likelihood:                -3607.0\nNo. Observations:                 332   AIC:                             7218.\nDf Residuals:                     330   BIC:                             7226.\nDf Model:                           1                                         \nCovariance Type:            nonrobust                                         \n==============================================================================\n                 coef    std err          t      P>|t|      [0.025      0.975]\n------------------------------------------------------------------------------\nconst      -6800.6916   1290.604     -5.269      0.000   -9339.541   -4261.842\nSquare       409.0725     15.635     26.164      0.000     378.316     439.829\n==============================================================================\nOmnibus:                      175.740   Durbin-Watson:                   1.947\nProb(Omnibus):                  0.000   Jarque-Bera (JB):             1873.266\nSkew:                           1.945   Prob(JB):                         0.00\nKurtosis:                      13.967   Cond. No.                         153.\n==============================================================================\n\nNotes:\n[1] Standard Errors assume that the covariance matrix of the errors is correctly specified.\n\"\"\"",
      "text/html": "<table class=\"simpletable\">\n<caption>OLS Regression Results</caption>\n<tr>\n  <th>Dep. Variable:</th>          <td>Price</td>      <th>  R-squared:         </th> <td>   0.675</td>\n</tr>\n<tr>\n  <th>Model:</th>                   <td>OLS</td>       <th>  Adj. R-squared:    </th> <td>   0.674</td>\n</tr>\n<tr>\n  <th>Method:</th>             <td>Least Squares</td>  <th>  F-statistic:       </th> <td>   684.6</td>\n</tr>\n<tr>\n  <th>Date:</th>             <td>Wed, 03 Aug 2022</td> <th>  Prob (F-statistic):</th> <td>1.76e-82</td>\n</tr>\n<tr>\n  <th>Time:</th>                 <td>15:37:30</td>     <th>  Log-Likelihood:    </th> <td> -3607.0</td>\n</tr>\n<tr>\n  <th>No. Observations:</th>      <td>   332</td>      <th>  AIC:               </th> <td>   7218.</td>\n</tr>\n<tr>\n  <th>Df Residuals:</th>          <td>   330</td>      <th>  BIC:               </th> <td>   7226.</td>\n</tr>\n<tr>\n  <th>Df Model:</th>              <td>     1</td>      <th>                     </th>     <td> </td>   \n</tr>\n<tr>\n  <th>Covariance Type:</th>      <td>nonrobust</td>    <th>                     </th>     <td> </td>   \n</tr>\n</table>\n<table class=\"simpletable\">\n<tr>\n     <td></td>       <th>coef</th>     <th>std err</th>      <th>t</th>      <th>P>|t|</th>  <th>[0.025</th>    <th>0.975]</th>  \n</tr>\n<tr>\n  <th>const</th>  <td>-6800.6916</td> <td> 1290.604</td> <td>   -5.269</td> <td> 0.000</td> <td>-9339.541</td> <td>-4261.842</td>\n</tr>\n<tr>\n  <th>Square</th> <td>  409.0725</td> <td>   15.635</td> <td>   26.164</td> <td> 0.000</td> <td>  378.316</td> <td>  439.829</td>\n</tr>\n</table>\n<table class=\"simpletable\">\n<tr>\n  <th>Omnibus:</th>       <td>175.740</td> <th>  Durbin-Watson:     </th> <td>   1.947</td>\n</tr>\n<tr>\n  <th>Prob(Omnibus):</th> <td> 0.000</td>  <th>  Jarque-Bera (JB):  </th> <td>1873.266</td>\n</tr>\n<tr>\n  <th>Skew:</th>          <td> 1.945</td>  <th>  Prob(JB):          </th> <td>    0.00</td>\n</tr>\n<tr>\n  <th>Kurtosis:</th>      <td>13.967</td>  <th>  Cond. No.          </th> <td>    153.</td>\n</tr>\n</table><br/><br/>Notes:<br/>[1] Standard Errors assume that the covariance matrix of the errors is correctly specified."
     },
     "execution_count": 32,
     "metadata": {},
     "output_type": "execute_result"
    }
   ],
   "source": [
    "Y = df['Price']\n",
    "X = df[['Square']]\n",
    "X = sm.add_constant(X)\n",
    "ks = sm.OLS(Y, X)\n",
    "ks_res = ks.fit()\n",
    "ks_res.summary()"
   ],
   "metadata": {
    "collapsed": false,
    "pycharm": {
     "name": "#%%\n"
    }
   }
  },
  {
   "cell_type": "markdown",
   "source": [
    "#### _Розрахунок точності отриманої множинної моделі за всіма уточнювальними змінними після згаданих корегувань_"
   ],
   "metadata": {
    "collapsed": false,
    "pycharm": {
     "name": "#%% md\n"
    }
   }
  },
  {
   "cell_type": "code",
   "execution_count": 34,
   "outputs": [
    {
     "data": {
      "text/plain": "<class 'statsmodels.iolib.summary.Summary'>\n\"\"\"\n                            OLS Regression Results                            \n==============================================================================\nDep. Variable:                  Price   R-squared:                       0.734\nModel:                            OLS   Adj. R-squared:                  0.730\nMethod:                 Least Squares   F-statistic:                     179.9\nDate:                Wed, 03 Aug 2022   Prob (F-statistic):           1.76e-91\nTime:                        15:40:01   Log-Likelihood:                -3573.6\nNo. Observations:                 332   AIC:                             7159.\nDf Residuals:                     326   BIC:                             7182.\nDf Model:                           5                                         \nCovariance Type:            nonrobust                                         \n=======================================================================================\n                          coef    std err          t      P>|t|      [0.025      0.975]\n---------------------------------------------------------------------------------------\nconst                 237.0732   2868.116      0.083      0.934   -5405.278    5879.424\nSquare                388.0538     14.880     26.078      0.000     358.780     417.328\nDistrict             -991.0803    242.462     -4.088      0.000   -1468.067    -514.094\nResidential_complex  7149.8186   1389.497      5.146      0.000    4416.305    9883.332\nLevel_of_housing     -261.1699   1272.567     -0.205      0.838   -2764.649    2242.309\nDistance_to_Metro   -1997.1110    795.103     -2.512      0.012   -3561.291    -432.931\n==============================================================================\nOmnibus:                      231.225   Durbin-Watson:                   2.031\nProb(Omnibus):                  0.000   Jarque-Bera (JB):             4622.749\nSkew:                           2.566   Prob(JB):                         0.00\nKurtosis:                      20.546   Cond. No.                         396.\n==============================================================================\n\nNotes:\n[1] Standard Errors assume that the covariance matrix of the errors is correctly specified.\n\"\"\"",
      "text/html": "<table class=\"simpletable\">\n<caption>OLS Regression Results</caption>\n<tr>\n  <th>Dep. Variable:</th>          <td>Price</td>      <th>  R-squared:         </th> <td>   0.734</td>\n</tr>\n<tr>\n  <th>Model:</th>                   <td>OLS</td>       <th>  Adj. R-squared:    </th> <td>   0.730</td>\n</tr>\n<tr>\n  <th>Method:</th>             <td>Least Squares</td>  <th>  F-statistic:       </th> <td>   179.9</td>\n</tr>\n<tr>\n  <th>Date:</th>             <td>Wed, 03 Aug 2022</td> <th>  Prob (F-statistic):</th> <td>1.76e-91</td>\n</tr>\n<tr>\n  <th>Time:</th>                 <td>15:40:01</td>     <th>  Log-Likelihood:    </th> <td> -3573.6</td>\n</tr>\n<tr>\n  <th>No. Observations:</th>      <td>   332</td>      <th>  AIC:               </th> <td>   7159.</td>\n</tr>\n<tr>\n  <th>Df Residuals:</th>          <td>   326</td>      <th>  BIC:               </th> <td>   7182.</td>\n</tr>\n<tr>\n  <th>Df Model:</th>              <td>     5</td>      <th>                     </th>     <td> </td>   \n</tr>\n<tr>\n  <th>Covariance Type:</th>      <td>nonrobust</td>    <th>                     </th>     <td> </td>   \n</tr>\n</table>\n<table class=\"simpletable\">\n<tr>\n           <td></td>              <th>coef</th>     <th>std err</th>      <th>t</th>      <th>P>|t|</th>  <th>[0.025</th>    <th>0.975]</th>  \n</tr>\n<tr>\n  <th>const</th>               <td>  237.0732</td> <td> 2868.116</td> <td>    0.083</td> <td> 0.934</td> <td>-5405.278</td> <td> 5879.424</td>\n</tr>\n<tr>\n  <th>Square</th>              <td>  388.0538</td> <td>   14.880</td> <td>   26.078</td> <td> 0.000</td> <td>  358.780</td> <td>  417.328</td>\n</tr>\n<tr>\n  <th>District</th>            <td> -991.0803</td> <td>  242.462</td> <td>   -4.088</td> <td> 0.000</td> <td>-1468.067</td> <td> -514.094</td>\n</tr>\n<tr>\n  <th>Residential_complex</th> <td> 7149.8186</td> <td> 1389.497</td> <td>    5.146</td> <td> 0.000</td> <td> 4416.305</td> <td> 9883.332</td>\n</tr>\n<tr>\n  <th>Level_of_housing</th>    <td> -261.1699</td> <td> 1272.567</td> <td>   -0.205</td> <td> 0.838</td> <td>-2764.649</td> <td> 2242.309</td>\n</tr>\n<tr>\n  <th>Distance_to_Metro</th>   <td>-1997.1110</td> <td>  795.103</td> <td>   -2.512</td> <td> 0.012</td> <td>-3561.291</td> <td> -432.931</td>\n</tr>\n</table>\n<table class=\"simpletable\">\n<tr>\n  <th>Omnibus:</th>       <td>231.225</td> <th>  Durbin-Watson:     </th> <td>   2.031</td>\n</tr>\n<tr>\n  <th>Prob(Omnibus):</th> <td> 0.000</td>  <th>  Jarque-Bera (JB):  </th> <td>4622.749</td>\n</tr>\n<tr>\n  <th>Skew:</th>          <td> 2.566</td>  <th>  Prob(JB):          </th> <td>    0.00</td>\n</tr>\n<tr>\n  <th>Kurtosis:</th>      <td>20.546</td>  <th>  Cond. No.          </th> <td>    396.</td>\n</tr>\n</table><br/><br/>Notes:<br/>[1] Standard Errors assume that the covariance matrix of the errors is correctly specified."
     },
     "execution_count": 34,
     "metadata": {},
     "output_type": "execute_result"
    }
   ],
   "source": [
    "Y = df['Price']\n",
    "X = df[['Square', 'District', 'Residential_complex', 'Level_of_housing', 'Distance_to_Metro']]\n",
    "X = sm.add_constant(X)\n",
    "ks = sm.OLS(Y, X)\n",
    "ks_res =ks.fit()\n",
    "ks_res.summary()"
   ],
   "metadata": {
    "collapsed": false,
    "pycharm": {
     "name": "#%%\n"
    }
   }
  },
  {
   "cell_type": "markdown",
   "source": [
    "### Загальні рекомендації замовникові\n",
    "Для прогнозування з точністю _**0.73**_ шуканих параметрів квартири  cлід обирати такий діапазон пояснювальних змінних:\n",
    "* змінна 'Square' має перебувати в межах 12 - 400 $м^2$;\n",
    "* змінна 'Price' має перебувати в межах 3700 - 182800 грн;\n",
    "* решту уточнувальних змінних лишити без змін"
   ],
   "metadata": {
    "collapsed": false,
    "pycharm": {
     "name": "#%% md\n"
    }
   }
  }
 ],
 "metadata": {
  "kernelspec": {
   "display_name": "Python 3 (ipykernel)",
   "language": "python",
   "name": "python3"
  },
  "language_info": {
   "codemirror_mode": {
    "name": "ipython",
    "version": 3
   },
   "file_extension": ".py",
   "mimetype": "text/x-python",
   "name": "python",
   "nbconvert_exporter": "python",
   "pygments_lexer": "ipython3",
   "version": "3.9.7"
  }
 },
 "nbformat": 4,
 "nbformat_minor": 5
}