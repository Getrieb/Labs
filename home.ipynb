{
 "cells": [
  {
   "cell_type": "markdown",
   "id": "baf642bf",
   "metadata": {
    "pycharm": {
     "name": "#%% md\n"
    }
   },
   "source": [
    "# 1. Markdown cells     \n",
    "\n",
    "* Hi! Its main Academy?\n",
    "* All HTML tabs are supported!\n",
    "* Моя сторінка на [лінкедін][Link]\n",
    "[link]: https://www.linkedin.com/in/sergii-mykhalkiv-7823b3a2/\n",
    "\n",
    "# This is Heading1\n",
    "## This is Heading2\n",
    "some gray colored text:\n",
    ">This is where we can bring quotes and present them nicely\n",
    "\n",
    "And this is the paragraph about something very important. Even math: \n",
    "$$ y_{sub}\\ = \\sqrt{}x_{sub}\\ $$\n",
    "Or python code example:\n",
    "\n",
    "    import math  \n",
    "    def foo( ):\n",
    "        return \"foo\"\n",
    "\n",
    "\n",
    "\n",
    "\n",
    "\n",
    "\n",
    "\n",
    "\n",
    "\n"
   ]
  },
  {
   "cell_type": "markdown",
   "id": "b22d0c53",
   "metadata": {
    "pycharm": {
     "name": "#%% md\n"
    }
   },
   "source": [
    "Here is the sample mean: $$ \\overline{\\rm y}=\\frac{1}{n}\\sum_{i=1}^{n} y_{i}$$\n",
    "Here is the sample variance: $$ \\sigma^2=\\frac{\\sum_{i=1}^{n} (y_{i}-\\overline{\\rm y})^2}{n-1} $$\n",
    "Here is the sample standard deviation: $$ \\sigma=\\sqrt{\\frac{\\sum_{i=1}^{n} (y_{i}-\\overline{\\rm y})^2}{n-1}} $$"
   ]
  },
  {
   "cell_type": "code",
   "execution_count": null,
   "id": "d5f1771a",
   "metadata": {
    "pycharm": {
     "name": "#%%\n"
    }
   },
   "outputs": [],
   "source": []
  }
 ],
 "metadata": {
  "kernelspec": {
   "display_name": "Python 3 (ipykernel)",
   "language": "python",
   "name": "python3"
  },
  "language_info": {
   "codemirror_mode": {
    "name": "ipython",
    "version": 3
   },
   "file_extension": ".py",
   "mimetype": "text/x-python",
   "name": "python",
   "nbconvert_exporter": "python",
   "pygments_lexer": "ipython3",
   "version": "3.9.7"
  }
 },
 "nbformat": 4,
 "nbformat_minor": 5
}