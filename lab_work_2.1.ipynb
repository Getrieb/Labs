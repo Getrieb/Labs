{
 "cells": [
  {
   "cell_type": "markdown",
   "metadata": {
    "pycharm": {
     "name": "#%% md\n"
    }
   },
   "source": [
    "___\n",
    "\n",
    "<a href='https://mainacademy.ua/'> <img src='https://mainacademy.ua/wp-content/uploads/2019/03/logo-main.png' alt = 'Хмм, щось з інтернетом'/></a>\n",
    "___\n",
    "\n",
    "# Module 2: Basic Python"
   ]
  },
  {
   "cell_type": "markdown",
   "metadata": {
    "pycharm": {
     "name": "#%% md\n"
    }
   },
   "source": [
    "## Lab work 2.1\n",
    "\n"
   ]
  },
  {
   "cell_type": "markdown",
   "metadata": {
    "pycharm": {
     "name": "#%% md\n"
    }
   },
   "source": [
    "#### Мета: \n",
    "\n",
    "* навчитися працювати із основними типами та структурами даних в Python;\n",
    "* ознайомитися із базовими алгоритмами;"
   ]
  },
  {
   "cell_type": "markdown",
   "metadata": {
    "pycharm": {
     "name": "#%% md\n"
    }
   },
   "source": [
    "#### Завдання 1"
   ]
  },
  {
   "cell_type": "markdown",
   "metadata": {
    "pycharm": {
     "name": "#%% md\n"
    }
   },
   "source": [
    "Обчислити площу трикутника, коли відома сторона та проведена висота до неї"
   ]
  },
  {
   "cell_type": "code",
   "execution_count": 37,
   "metadata": {
    "pycharm": {
     "name": "#%%\n"
    }
   },
   "outputs": [
    {
     "name": "stdout",
     "output_type": "stream",
     "text": [
      "Довжина сторони = 23 mm\n",
      "Довжина висоти = 51 mm\n",
      "Площа трикутника = 586.5 mm**2\n"
     ]
    }
   ],
   "source": [
    "a = int(input(\"Уведіть довжину сторони трикутника, мм: \"))\n",
    "h = int(input(\"Уведіть довжину висоти трикутника, мм: \"))\n",
    "sq__ = a*h/2\n",
    "sq_ = \"mm**2\"\n",
    "print(\"Довжина сторони = %s mm\" % a)\n",
    "print(\"Довжина висоти = %s mm\" % h)\n",
    "print(\"Площа трикутника = %s %s\" % (sq__, sq_))"
   ]
  },
  {
   "cell_type": "markdown",
   "metadata": {
    "pycharm": {
     "name": "#%% md\n"
    }
   },
   "source": [
    "#### Завдання 2"
   ]
  },
  {
   "cell_type": "markdown",
   "metadata": {
    "pycharm": {
     "name": "#%% md\n"
    }
   },
   "source": [
    "Дано трицифрове число. Виведіть окремо кожну цифру числа та суми цифр число\n",
    "\n",
    "Реалізуйте завдання двома способами (використовуючи стрічки та оператори `%`, `//`)"
   ]
  },
  {
   "cell_type": "code",
   "execution_count": 8,
   "metadata": {
    "pycharm": {
     "name": "#%%\n"
    }
   },
   "outputs": [
    {
     "name": "stdout",
     "output_type": "stream",
     "text": [
      "Уведена стрічка: 907\n",
      "Перше число стрічки: 9\n",
      "Друге число стрічки: 0\n",
      "Третє число стрічки: 7\n",
      "Сума цифрової стрічки: 16\n"
     ]
    }
   ],
   "source": [
    "N = input(\"Уведіть числову стрічку:\")\n",
    "print(\"Уведена стрічка: %s\" % N)\n",
    "print(\"Перше число стрічки:\", N[0])\n",
    "print(\"Друге число стрічки:\", N[1])\n",
    "print(\"Третє число стрічки:\", N[2])\n",
    "\n",
    "k = 0\n",
    "i = 0\n",
    "\n",
    "while k < len(N):\n",
    "    i = i + int(N[k])\n",
    "    k += 1\n",
    "\n",
    "print(\"Сума цифрової стрічки: %s\" % i)"
   ]
  },
  {
   "cell_type": "code",
   "execution_count": 16,
   "metadata": {
    "pycharm": {
     "name": "#%%\n"
    }
   },
   "outputs": [
    {
     "name": "stdout",
     "output_type": "stream",
     "text": [
      "Уведене тризначне число: 761\n",
      "Сума цифр тризначного числа: 14\n"
     ]
    }
   ],
   "source": [
    "N = int(input(\"Увести тризначне число:\" ))\n",
    "print(\"Уведене тризначне число: %s\" % N)\n",
    "\n",
    "suma_ch = 0\n",
    "\n",
    "while N > 0:\n",
    "    zal = N % 10\n",
    "    suma_ch = suma_ch + zal\n",
    "    N = N // 10\n",
    "\n",
    "print(\"Сума цифр тризначного числа: %s\" % suma_ch)"
   ]
  },
  {
   "cell_type": "markdown",
   "metadata": {
    "pycharm": {
     "name": "#%% md\n"
    }
   },
   "source": [
    "#### Завдання 3"
   ]
  },
  {
   "cell_type": "markdown",
   "metadata": {
    "pycharm": {
     "name": "#%% md\n"
    }
   },
   "source": [
    "Дано речення (стрічка). \n",
    "* Розбийте речення по словах і помістіть їх у список. \n",
    "* Виведіть кількість слів у речені.\n",
    "* Утворіть нове речення, що складається з першого та останнього слова із початкового речення."
   ]
  },
  {
   "cell_type": "code",
   "execution_count": 36,
   "metadata": {
    "pycharm": {
     "name": "#%%\n"
    }
   },
   "outputs": [
    {
     "name": "stdout",
     "output_type": "stream",
     "text": [
      "1). Список: ['My', 'favourite', 'tutor', 'in', 'academy', 'is', 'Ihor']\n",
      "2). Вивести кілька слів зі списку: ['My', 'favourite', 'tutor']\n",
      "3). Нове cкорочене речення: My Ihor\n"
     ]
    }
   ],
   "source": [
    "sentence = 'My favourite tutor in academy is Ihor'\n",
    "sentence_list = sentence.split(' ')\n",
    "new_list = sentence_list[0] + sentence_list[-1]\n",
    "new_sentence = ' '.join(sentence_list[0::6])\n",
    "print(\"1). Список: %s\" % sentence_list)\n",
    "print(\"2). Вивести кілька слів зі списку:\", sentence_list[0:3])\n",
    "print(\"3). Нове cкорочене речення: %s\" % new_sentence)"
   ]
  },
  {
   "cell_type": "markdown",
   "metadata": {
    "pycharm": {
     "name": "#%% md\n"
    }
   },
   "source": [
    "#### Завдання 4"
   ]
  },
  {
   "cell_type": "markdown",
   "metadata": {
    "pycharm": {
     "name": "#%% md\n"
    }
   },
   "source": [
    "Перевірте, чи справджується формула: $$ sin^2x + cos^2x = 1$$\n",
    "\n",
    "Напишіть код, що реалізує цю формулу. Нагадую, що тригонометричні функції приймають аргументи в радіанній мірі"
   ]
  },
  {
   "cell_type": "code",
   "execution_count": 4,
   "metadata": {
    "pycharm": {
     "name": "#%%\n"
    }
   },
   "outputs": [
    {
     "name": "stdout",
     "output_type": "stream",
     "text": [
      "Уведене значення кута в радіанах: 6\n",
      "Розрахована тригонометрична тотожність: 1.0\n",
      "Розрахована тригонометрична тотожність: 1.0\n",
      "Розрахована тригонометрична тотожність: 1.0\n",
      "Розрахована тригонометрична тотожність: 1.0\n",
      "Розрахована тригонометрична тотожність: 1.0\n"
     ]
    }
   ],
   "source": [
    "import math\n",
    "\n",
    "def tryg(value):\n",
    "\n",
    "    for i in range (1, value, 1):\n",
    "        k = math.sin(i*math.pi)**2 + math.cos(i*math.pi)**2\n",
    "        print(\"Розрахована тригонометрична тотожність: %s\" % k)\n",
    "\n",
    "tot = int(input())\n",
    "print(\"Уведене значення кута в радіанах: %s\" % tot)\n",
    "tot_ = tryg(tot)"
   ]
  },
  {
   "cell_type": "markdown",
   "metadata": {
    "pycharm": {
     "name": "#%% md\n"
    }
   },
   "source": [
    "#### Завдання 5"
   ]
  },
  {
   "cell_type": "markdown",
   "metadata": {
    "pycharm": {
     "name": "#%% md\n"
    }
   },
   "source": [
    "Напишіть програму для обчислення коренів квадратного рівняння.\n",
    "\n",
    "Нагадую, що `n`-го степеня має `n` коренів. (Корені можуть бути комплексні)"
   ]
  },
  {
   "cell_type": "code",
   "execution_count": 5,
   "metadata": {
    "pycharm": {
     "name": "#%%\n"
    }
   },
   "outputs": [
    {
     "name": "stdout",
     "output_type": "stream",
     "text": [
      "Увести коефіцієнт a = 1\n",
      "Увести коефіцієнт b = -34\n",
      "Увести коефіцієнт c = 90\n",
      "D = 796\n",
      "x1 = (31.106735979665885+0j)\n",
      "x2 = (2.893264020334115+0j)\n"
     ]
    }
   ],
   "source": [
    "import cmath\n",
    "\n",
    "a = int(input(\"Увести коефіцієнт a:\"))\n",
    "b = int(input(\"Увести коефіцієнт b:\"))\n",
    "c = int(input(\"Увести коефіцієнт c:\"))\n",
    "\n",
    "print(\"Увести коефіцієнт a = %s\" % a)\n",
    "print(\"Увести коефіцієнт b = %s\" % b)\n",
    "print(\"Увести коефіцієнт c = %s\" % c)\n",
    "\n",
    "D = b**2 - 4 * a * c\n",
    "print(\"D = %s\" % D)\n",
    "\n",
    "if D > 0:\n",
    "    x1 = (-b + cmath.sqrt(D)) / (2 * a)\n",
    "    x2 = (-b - cmath.sqrt(D)) / (2 * a)\n",
    "    print(\"x1 = %s\" % x1)\n",
    "    print(\"x2 = %s\" % x2)\n",
    "\n",
    "elif D == 0:\n",
    "    x = -b / (2 * a)\n",
    "    print(x)\n",
    "\n",
    "else:\n",
    "    print(\"Нема коренів\")\n"
   ]
  },
  {
   "cell_type": "markdown",
   "metadata": {
    "pycharm": {
     "name": "#%% md\n"
    }
   },
   "source": [
    "#### Завдання 6"
   ]
  },
  {
   "cell_type": "markdown",
   "metadata": {
    "pycharm": {
     "name": "#%% md\n"
    }
   },
   "source": [
    "Напишіть програму, що виводить речення: <i>\"Діаметр планети `Planet` дорівнює` Diament`\"</i>, \n",
    "\n",
    "де `Planet` та `Diament` вводить користувач"
   ]
  },
  {
   "cell_type": "code",
   "execution_count": 12,
   "outputs": [
    {
     "name": "stdout",
     "output_type": "stream",
     "text": [
      "Діаметр планети Сатурн дорівнює 116460 км\n"
     ]
    }
   ],
   "source": [
    "Planet = input(\"Уведіть назву обраної планети\")\n",
    "Diament = int(input(\"Уведіть діаметр обраної планети, км:\"))\n",
    "print(\"Діаметр планети %s дорівнює %s км\" % (Planet, Diament))"
   ],
   "metadata": {
    "collapsed": false,
    "pycharm": {
     "name": "#%%\n"
    }
   }
  }
 ],
 "metadata": {
  "kernelspec": {
   "display_name": "Python 3",
   "language": "python",
   "name": "python3"
  },
  "language_info": {
   "codemirror_mode": {
    "name": "ipython",
    "version": 3
   },
   "file_extension": ".py",
   "mimetype": "text/x-python",
   "name": "python",
   "nbconvert_exporter": "python",
   "pygments_lexer": "ipython3",
   "version": "3.7.4"
  }
 },
 "nbformat": 4,
 "nbformat_minor": 2
}