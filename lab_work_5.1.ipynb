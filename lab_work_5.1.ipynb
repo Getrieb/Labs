{
 "cells": [
  {
   "cell_type": "markdown",
   "metadata": {
    "pycharm": {
     "name": "#%% md\n"
    }
   },
   "source": [
    "___\n",
    "\n",
    "<a href='https://mainacademy.ua/'> <img src='https://mainacademy.ua/wp-content/uploads/2019/03/logo-main.png' alt = 'Хмм, щось з інтернетом'/></a>\n",
    "___\n",
    "\n",
    "# Module 5: Data analysis with NumPy and Pandas"
   ]
  },
  {
   "cell_type": "markdown",
   "metadata": {
    "pycharm": {
     "name": "#%% md\n"
    }
   },
   "source": [
    "## Lab work 5.1\n",
    "\n"
   ]
  },
  {
   "cell_type": "markdown",
   "metadata": {
    "pycharm": {
     "name": "#%% md\n"
    }
   },
   "source": [
    "#### Мета: \n",
    "\n",
    "* навчитися працювати із бібліотекою NumPy в Python"
   ]
  },
  {
   "cell_type": "markdown",
   "metadata": {
    "pycharm": {
     "name": "#%% md\n"
    }
   },
   "source": [
    "### Завдання:"
   ]
  },
  {
   "cell_type": "code",
   "execution_count": 1,
   "metadata": {
    "pycharm": {
     "name": "#%%\n"
    }
   },
   "outputs": [],
   "source": [
    "import numpy as np"
   ]
  },
  {
   "cell_type": "markdown",
   "metadata": {
    "pycharm": {
     "name": "#%% md\n"
    }
   },
   "source": [
    "Вивести версію та конфігурацію бібліотеки:"
   ]
  },
  {
   "cell_type": "code",
   "execution_count": 3,
   "metadata": {
    "pycharm": {
     "name": "#%%\n"
    }
   },
   "outputs": [
    {
     "name": "stdout",
     "output_type": "stream",
     "text": [
      "1.20.3\n"
     ]
    }
   ],
   "source": [
    "print (np.__version__)"
   ]
  },
  {
   "cell_type": "markdown",
   "metadata": {
    "pycharm": {
     "name": "#%% md\n"
    }
   },
   "source": [
    "Створити вектор з 10 елементів, заповнений одиницями:"
   ]
  },
  {
   "cell_type": "code",
   "execution_count": 4,
   "metadata": {
    "pycharm": {
     "name": "#%%\n"
    }
   },
   "outputs": [
    {
     "name": "stdout",
     "output_type": "stream",
     "text": [
      "[1. 1. 1. 1. 1. 1. 1. 1. 1. 1.]\n"
     ]
    }
   ],
   "source": [
    "print(np.ones(10))"
   ]
  },
  {
   "cell_type": "markdown",
   "metadata": {
    "pycharm": {
     "name": "#%% md\n"
    }
   },
   "source": [
    "Створити вектор із значеннями від 0 до 10:"
   ]
  },
  {
   "cell_type": "code",
   "execution_count": 5,
   "metadata": {
    "pycharm": {
     "name": "#%%\n"
    }
   },
   "outputs": [
    {
     "name": "stdout",
     "output_type": "stream",
     "text": [
      "[ 0  1  2  3  4  5  6  7  8  9 10]\n"
     ]
    }
   ],
   "source": [
    "print(np.arange(11))"
   ]
  },
  {
   "cell_type": "markdown",
   "metadata": {
    "pycharm": {
     "name": "#%% md\n"
    }
   },
   "source": [
    "Створити матрицю 5 на 5, заповнену нулями:"
   ]
  },
  {
   "cell_type": "code",
   "execution_count": 6,
   "metadata": {
    "pycharm": {
     "name": "#%%\n"
    }
   },
   "outputs": [
    {
     "name": "stdout",
     "output_type": "stream",
     "text": [
      "[[0. 0. 0. 0. 0.]\n",
      " [0. 0. 0. 0. 0.]\n",
      " [0. 0. 0. 0. 0.]\n",
      " [0. 0. 0. 0. 0.]\n",
      " [0. 0. 0. 0. 0.]]\n"
     ]
    }
   ],
   "source": [
    "K = (np.zeros((5, 5)))\n",
    "print(K)"
   ]
  },
  {
   "cell_type": "markdown",
   "metadata": {
    "pycharm": {
     "name": "#%% md\n"
    }
   },
   "source": [
    "Заповнити вектор з 20 елементів випадковими цілими числами. Знайти індекси ненульових елементів:"
   ]
  },
  {
   "cell_type": "code",
   "execution_count": 15,
   "metadata": {
    "pycharm": {
     "name": "#%%\n"
    }
   },
   "outputs": [
    {
     "name": "stdout",
     "output_type": "stream",
     "text": [
      "[3 1 2 0 1 0 2 1 4 3 0 0 1 0 1 2 3 3 2 2]\n",
      "(array([ 0,  1,  2,  4,  6,  7,  8,  9, 12, 14, 15, 16, 17, 18, 19]),)\n"
     ]
    }
   ],
   "source": [
    "K = np.random.randint(0, 5, 20)\n",
    "print(K)\n",
    "C = np.nonzero(K)\n",
    "print(C)"
   ]
  },
  {
   "cell_type": "markdown",
   "metadata": {
    "pycharm": {
     "name": "#%% md\n"
    }
   },
   "source": [
    "Для вектора із попередньої задачі знайти середнє значення, медіану, стандартне відхилення:"
   ]
  },
  {
   "cell_type": "code",
   "execution_count": 17,
   "metadata": {
    "pycharm": {
     "name": "#%%\n"
    }
   },
   "outputs": [
    {
     "name": "stdout",
     "output_type": "stream",
     "text": [
      "Середнє значення =  1.55\n",
      "Медіана = 1.5\n",
      "Стандартне відхилення = 1.2031209415515967\n"
     ]
    }
   ],
   "source": [
    "print(\"Середнє значення = \", np.mean(K))\n",
    "print(\"Медіана =\", np.median(K))\n",
    "print(\"Стандартне відхилення =\", np.std(K))"
   ]
  },
  {
   "cell_type": "markdown",
   "metadata": {
    "pycharm": {
     "name": "#%% md\n"
    }
   },
   "source": [
    "Створити дві матриці випадкових чисел розміром 4х2 та 2х2. Перемножити їх:"
   ]
  },
  {
   "cell_type": "code",
   "execution_count": 31,
   "metadata": {
    "pycharm": {
     "name": "#%%\n"
    }
   },
   "outputs": [
    {
     "name": "stdout",
     "output_type": "stream",
     "text": [
      "Матриця з розміром 4х2: [[1 2]\n",
      " [0 0]\n",
      " [2 2]\n",
      " [0 0]]\n",
      "\n",
      "Матриця з розміром 2х2: [[0 2]\n",
      " [1 1]]\n",
      "\n",
      "Перемножені матриці: [[2 4]\n",
      " [0 0]\n",
      " [2 6]\n",
      " [0 0]]\n"
     ]
    }
   ],
   "source": [
    "A = np.random.randint(0, 3, (4, 2))\n",
    "B = np.random.randint(0, 3, (2, 2))\n",
    "C = A.dot(B)\n",
    "print(\"Матриця з розміром 4х2: %s\" % A)\n",
    "print()\n",
    "print(\"Матриця з розміром 2х2: %s\" % B)\n",
    "print()\n",
    "print(\"Перемножені матриці: %s\" % C)"
   ]
  },
  {
   "cell_type": "markdown",
   "metadata": {
    "pycharm": {
     "name": "#%% md\n"
    }
   },
   "source": [
    "Результуючу матрицю із попередньої задачі перетворити у вектор. Знайти мінімальне та максимальне значення. \n",
    "\n",
    "Максимальне значення замінити на 0:"
   ]
  },
  {
   "cell_type": "code",
   "execution_count": 46,
   "metadata": {
    "pycharm": {
     "name": "#%%\n"
    }
   },
   "outputs": [
    {
     "name": "stdout",
     "output_type": "stream",
     "text": [
      "Матриця, що перетворена у вектор: [[2 4 0 0 2 6 0 0]]\n",
      "\n",
      "Максимальне значення в отриманому векторі: 6\n",
      "\n",
      "Заміна у векторі за максимальним значенням: [[2 4 0 0 2 0 0 0]]\n"
     ]
    }
   ],
   "source": [
    "a = np.reshape(C, (1, 8))\n",
    "a_max = np.amax(a)\n",
    "\n",
    "print(\"Матриця, що перетворена у вектор: %s\" % a)\n",
    "print()\n",
    "print(\"Максимальне значення в отриманому векторі: %s\" % a_max)\n",
    "print()\n",
    "print(\"Заміна у векторі за максимальним значенням:\", np.where(a < a_max, a, 0))"
   ]
  },
  {
   "cell_type": "markdown",
   "metadata": {
    "pycharm": {
     "name": "#%% md\n"
    }
   },
   "source": [
    "Знайдіть кореляцію першого рядка матриці із попереднього завдання із іншими рядками:"
   ]
  },
  {
   "cell_type": "code",
   "execution_count": 66,
   "metadata": {
    "pycharm": {
     "name": "#%%\n"
    }
   },
   "outputs": [
    {
     "name": "stdout",
     "output_type": "stream",
     "text": [
      "Матриця розміром 4х2 для обчислення коефіцієнту кореляції: [[2 4]\n",
      " [0 0]\n",
      " [2 6]\n",
      " [0 0]]\n",
      "\n",
      "Коефіцієнт кореляції першого рядка з другим: [[ 1. nan]\n",
      " [nan nan]]\n",
      "\n",
      "Коефіцієнт кореляції першого рядка з третім: [[1. 1.]\n",
      " [1. 1.]]\n",
      "\n",
      "Коефіцієнт кореляції першого рядка з четвертим: [[ 1. nan]\n",
      " [nan nan]]\n"
     ]
    },
    {
     "name": "stderr",
     "output_type": "stream",
     "text": [
      "/Users/serhiimykhalkiv/opt/anaconda3/lib/python3.9/site-packages/numpy/lib/function_base.py:2642: RuntimeWarning: invalid value encountered in true_divide\n",
      "  c /= stddev[:, None]\n",
      "/Users/serhiimykhalkiv/opt/anaconda3/lib/python3.9/site-packages/numpy/lib/function_base.py:2643: RuntimeWarning: invalid value encountered in true_divide\n",
      "  c /= stddev[None, :]\n"
     ]
    }
   ],
   "source": [
    "import matplotlib.pyplot as plt\n",
    "\n",
    "corr_2 = np.corrcoef(C[0], C[1])\n",
    "corr_3 = np.corrcoef(C[0], C[2])\n",
    "corr_4 = np.corrcoef(C[0], C[3])\n",
    "\n",
    "print(\"Матриця розміром 4х2 для обчислення коефіцієнту кореляції: %s\" % C)\n",
    "print()\n",
    "print(\"Коефіцієнт кореляції першого рядка з другим:\", corr_2)\n",
    "print()\n",
    "print(\"Коефіцієнт кореляції першого рядка з третім:\", corr_3)\n",
    "print()\n",
    "print(\"Коефіцієнт кореляції першого рядка з четвертим:\", corr_4)"
   ]
  },
  {
   "cell_type": "markdown",
   "metadata": {
    "pycharm": {
     "name": "#%% md\n"
    }
   },
   "source": [
    "Дано матрицю. Знайти ранг матриці:"
   ]
  },
  {
   "cell_type": "code",
   "execution_count": 71,
   "metadata": {
    "pycharm": {
     "name": "#%%\n"
    }
   },
   "outputs": [
    {
     "name": "stdout",
     "output_type": "stream",
     "text": [
      "Ранг матриці: 3\n"
     ]
    }
   ],
   "source": [
    "from numpy import linalg as LA\n",
    "\n",
    "a = np.array([[ 1,  4, 5],\n",
    "              [7, 3, 2],\n",
    "              [9, 16, 1]])\n",
    "\n",
    "print(\"Ранг матриці:\", LA.matrix_rank(a))"
   ]
  },
  {
   "cell_type": "markdown",
   "metadata": {
    "pycharm": {
     "name": "#%% md\n"
    }
   },
   "source": [
    "Знайти визначник матриці:"
   ]
  },
  {
   "cell_type": "code",
   "execution_count": 74,
   "metadata": {
    "pycharm": {
     "name": "#%%\n"
    }
   },
   "outputs": [
    {
     "name": "stdout",
     "output_type": "stream",
     "text": [
      "Обчислений визначник матриці: 440.0\n"
     ]
    }
   ],
   "source": [
    "print(\"Обчислений визначник матриці:\", round(LA.det(a),0))"
   ]
  },
  {
   "cell_type": "markdown",
   "metadata": {
    "pycharm": {
     "name": "#%% md\n"
    }
   },
   "source": [
    "Знайти власні значення та власні вектори матриці: "
   ]
  },
  {
   "cell_type": "code",
   "execution_count": 79,
   "metadata": {
    "pycharm": {
     "name": "#%%\n"
    }
   },
   "outputs": [
    {
     "name": "stdout",
     "output_type": "stream",
     "text": [
      "Власні значення матриці: [-14.30540864  -4.34740072  23.65280936]\n",
      "\n",
      "Власні вектори матриці: [[ 0.15315575  0.88160309  0.44645191]\n",
      " [ 0.63674998 -0.43353159  0.6376518 ]\n",
      " [-0.75570681 -0.18661821  0.62775861]]\n"
     ]
    }
   ],
   "source": [
    "wa, va = LA.eigh(a)\n",
    "print(\"Власні значення матриці:\", wa)\n",
    "print()\n",
    "print(\"Власні вектори матриці:\", va)"
   ]
  },
  {
   "cell_type": "markdown",
   "metadata": {
    "pycharm": {
     "name": "#%% md\n"
    }
   },
   "source": [
    "Знайдіть число, що найчастіше зустрічається в масиві:"
   ]
  },
  {
   "cell_type": "code",
   "execution_count": 84,
   "metadata": {
    "pycharm": {
     "name": "#%%\n"
    }
   },
   "outputs": [
    {
     "name": "stdout",
     "output_type": "stream",
     "text": [
      "Згенерований вектор: [1 3 1 5 6 2 7 5 5 9 0 7 1 8 4 0 8 7 6 3 2 5 5 9 2 6 8 2 7 4 3 1 7 0 4 7 4\n",
      " 1 7 0 7 7 1 7 9 6 0 3 0 8]\n",
      "\n",
      "Число, що найчастіше зустрічається: 7\n"
     ]
    }
   ],
   "source": [
    "a = np.random.randint(0,10,50)\n",
    "d = np.argmax(np.bincount(a))\n",
    "print(\"Згенерований вектор:\", a)\n",
    "print()\n",
    "print(\"Число, що найчастіше зустрічається:\", d)"
   ]
  },
  {
   "cell_type": "markdown",
   "metadata": {
    "pycharm": {
     "name": "#%% md\n"
    }
   },
   "source": [
    "Виведіть лише парні числа, що діляться на 5:"
   ]
  },
  {
   "cell_type": "code",
   "execution_count": 95,
   "metadata": {
    "pycharm": {
     "name": "#%%\n"
    }
   },
   "outputs": [
    {
     "name": "stdout",
     "output_type": "stream",
     "text": [
      "Згенерований випадковий вектор: [1 4 8 2 7 2 1 7 2 2 0 5 6 8 7 9 2 8 1 9 7 2 7 0 2 4 9 3 6 5 9 0 0 3 4 3 5\n",
      " 6 6 1 6 8 3 1 5 4 5 3 0 5]\n",
      "\n",
      "Парні числа, що ділятсья на 5: [None None None None None None None None None None 0 5 None None None None\n",
      " None None None None None None None 0 None None None None None 5 None 0 0\n",
      " None None None 5 None None None None None None None 5 None 5 None 0 5]\n"
     ]
    }
   ],
   "source": [
    "a = np.random.randint(0,10,50)\n",
    "print(\"Згенерований випадковий вектор:\", a)\n",
    "print()\n",
    "print(\"Парні числа, що ділятсья на 5:\", np.where(a % 5 == 0, a, None))"
   ]
  },
  {
   "cell_type": "markdown",
   "metadata": {
    "pycharm": {
     "name": "#%% md\n"
    }
   },
   "source": [
    "Розв'яжіть систему рівнянь:\n",
    "$$2x + 5y = 1 $$\n",
    "\n",
    "$$x - 10y = 3  $$\n",
    "   "
   ]
  },
  {
   "cell_type": "code",
   "execution_count": 99,
   "outputs": [
    {
     "name": "stdout",
     "output_type": "stream",
     "text": [
      "Обчислені x, y: [ 1.  -0.2]\n"
     ]
    }
   ],
   "source": [
    "M_1 = np.array([[2., 5.], [1., -10.]])\n",
    "v_1 = np.array([1., 3.])\n",
    "print(\"Обчислені x, y:\", np.linalg.solve(M_1, v_1))"
   ],
   "metadata": {
    "collapsed": false,
    "pycharm": {
     "name": "#%%\n"
    }
   }
  }
 ],
 "metadata": {
  "kernelspec": {
   "display_name": "Python 3",
   "language": "python",
   "name": "python3"
  },
  "language_info": {
   "codemirror_mode": {
    "name": "ipython",
    "version": 3
   },
   "file_extension": ".py",
   "mimetype": "text/x-python",
   "name": "python",
   "nbconvert_exporter": "python",
   "pygments_lexer": "ipython3",
   "version": "3.7.3"
  }
 },
 "nbformat": 4,
 "nbformat_minor": 2
}